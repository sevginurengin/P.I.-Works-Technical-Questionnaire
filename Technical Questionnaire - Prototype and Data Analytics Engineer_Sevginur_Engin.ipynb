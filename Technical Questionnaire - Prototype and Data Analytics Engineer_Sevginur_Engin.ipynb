{
 "cells": [
  {
   "cell_type": "markdown",
   "metadata": {},
   "source": [
    "QUESTION-4"
   ]
  },
  {
   "cell_type": "markdown",
   "metadata": {},
   "source": [
    "Code Implementation Task: Implement code to fill the missing data (impute) in daily_vaccinations column per country with the minimum daily vaccination number of relevant countries.  \n",
    "Note: If a country does not have any valid vaccination number yet, fill it with “0” (zero). \n",
    "Please  provide the link to your code as answer to this question."
   ]
  },
  {
   "cell_type": "code",
   "execution_count": 1,
   "metadata": {},
   "outputs": [],
   "source": [
    "import numpy as np\n",
    "import pandas as pd"
   ]
  },
  {
   "cell_type": "code",
   "execution_count": 2,
   "metadata": {},
   "outputs": [],
   "source": [
    "df=pd.read_csv(\"country_vaccination_stats.csv\")"
   ]
  },
  {
   "cell_type": "code",
   "execution_count": 3,
   "metadata": {},
   "outputs": [
    {
     "data": {
      "text/html": [
       "<div>\n",
       "<style scoped>\n",
       "    .dataframe tbody tr th:only-of-type {\n",
       "        vertical-align: middle;\n",
       "    }\n",
       "\n",
       "    .dataframe tbody tr th {\n",
       "        vertical-align: top;\n",
       "    }\n",
       "\n",
       "    .dataframe thead th {\n",
       "        text-align: right;\n",
       "    }\n",
       "</style>\n",
       "<table border=\"1\" class=\"dataframe\">\n",
       "  <thead>\n",
       "    <tr style=\"text-align: right;\">\n",
       "      <th></th>\n",
       "      <th>country</th>\n",
       "      <th>date</th>\n",
       "      <th>daily_vaccinations</th>\n",
       "      <th>vaccines</th>\n",
       "    </tr>\n",
       "  </thead>\n",
       "  <tbody>\n",
       "    <tr>\n",
       "      <th>0</th>\n",
       "      <td>Argentina</td>\n",
       "      <td>12/29/2020</td>\n",
       "      <td>NaN</td>\n",
       "      <td>Sputnik V</td>\n",
       "    </tr>\n",
       "    <tr>\n",
       "      <th>1</th>\n",
       "      <td>Argentina</td>\n",
       "      <td>12/30/2020</td>\n",
       "      <td>15656.0</td>\n",
       "      <td>Sputnik V</td>\n",
       "    </tr>\n",
       "    <tr>\n",
       "      <th>2</th>\n",
       "      <td>Argentina</td>\n",
       "      <td>12/31/2020</td>\n",
       "      <td>15656.0</td>\n",
       "      <td>Sputnik V</td>\n",
       "    </tr>\n",
       "    <tr>\n",
       "      <th>3</th>\n",
       "      <td>Argentina</td>\n",
       "      <td>1/1/2021</td>\n",
       "      <td>11070.0</td>\n",
       "      <td>Sputnik V</td>\n",
       "    </tr>\n",
       "    <tr>\n",
       "      <th>4</th>\n",
       "      <td>Argentina</td>\n",
       "      <td>1/2/2021</td>\n",
       "      <td>8776.0</td>\n",
       "      <td>Sputnik V</td>\n",
       "    </tr>\n",
       "  </tbody>\n",
       "</table>\n",
       "</div>"
      ],
      "text/plain": [
       "     country        date  daily_vaccinations   vaccines\n",
       "0  Argentina  12/29/2020                 NaN  Sputnik V\n",
       "1  Argentina  12/30/2020             15656.0  Sputnik V\n",
       "2  Argentina  12/31/2020             15656.0  Sputnik V\n",
       "3  Argentina    1/1/2021             11070.0  Sputnik V\n",
       "4  Argentina    1/2/2021              8776.0  Sputnik V"
      ]
     },
     "execution_count": 3,
     "metadata": {},
     "output_type": "execute_result"
    }
   ],
   "source": [
    "df.head()"
   ]
  },
  {
   "cell_type": "code",
   "execution_count": 4,
   "metadata": {},
   "outputs": [
    {
     "name": "stdout",
     "output_type": "stream",
     "text": [
      "<class 'pandas.core.frame.DataFrame'>\n",
      "RangeIndex: 1502 entries, 0 to 1501\n",
      "Data columns (total 4 columns):\n",
      " #   Column              Non-Null Count  Dtype  \n",
      "---  ------              --------------  -----  \n",
      " 0   country             1502 non-null   object \n",
      " 1   date                1502 non-null   object \n",
      " 2   daily_vaccinations  1442 non-null   float64\n",
      " 3   vaccines            1502 non-null   object \n",
      "dtypes: float64(1), object(3)\n",
      "memory usage: 47.1+ KB\n"
     ]
    }
   ],
   "source": [
    "df.info()"
   ]
  },
  {
   "cell_type": "code",
   "execution_count": 5,
   "metadata": {},
   "outputs": [
    {
     "data": {
      "text/plain": [
       "country                0\n",
       "date                   0\n",
       "daily_vaccinations    60\n",
       "vaccines               0\n",
       "dtype: int64"
      ]
     },
     "execution_count": 5,
     "metadata": {},
     "output_type": "execute_result"
    }
   ],
   "source": [
    "df.isnull().sum()"
   ]
  },
  {
   "cell_type": "code",
   "execution_count": 6,
   "metadata": {},
   "outputs": [
    {
     "data": {
      "text/plain": [
       "array(['Sputnik V', 'Pfizer/BioNTech', 'Pfizer/BioNTech, Sinopharm',\n",
       "       'Sinovac', 'Moderna, Pfizer/BioNTech', 'CNBG, Sinovac',\n",
       "       'Oxford/AstraZeneca, Pfizer/BioNTech', 'Covaxin, Covishield',\n",
       "       'Pfizer/BioNTech, Sinopharm, Sputnik V', 'Sinopharm'], dtype=object)"
      ]
     },
     "execution_count": 6,
     "metadata": {},
     "output_type": "execute_result"
    }
   ],
   "source": [
    "df.vaccines.unique()"
   ]
  },
  {
   "cell_type": "code",
   "execution_count": 7,
   "metadata": {},
   "outputs": [
    {
     "data": {
      "text/plain": [
       "array([   nan, 15656., 11070., ..., 15148., 17371., 17063.])"
      ]
     },
     "execution_count": 7,
     "metadata": {},
     "output_type": "execute_result"
    }
   ],
   "source": [
    "df.daily_vaccinations.unique()"
   ]
  },
  {
   "cell_type": "code",
   "execution_count": 8,
   "metadata": {},
   "outputs": [
    {
     "data": {
      "text/plain": [
       "array(['Argentina', 'Austria', 'Bahrain', 'Belgium', 'Brazil', 'Bulgaria',\n",
       "       'Canada', 'Chile', 'China', 'Costa Rica', 'Croatia', 'Cyprus',\n",
       "       'Czechia', 'Denmark', 'Ecuador', 'England', 'Estonia', 'Finland',\n",
       "       'France', 'Germany', 'Gibraltar', 'Greece', 'Hungary', 'Iceland',\n",
       "       'India', 'Indonesia', 'Ireland', 'Isle of Man', 'Israel', 'Italy',\n",
       "       'Kuwait', 'Latvia', 'Lithuania', 'Luxembourg', 'Malta', 'Mexico',\n",
       "       'Netherlands', 'Northern Ireland', 'Norway', 'Oman', 'Panama',\n",
       "       'Poland', 'Portugal', 'Romania', 'Russia', 'Saudi Arabia',\n",
       "       'Scotland', 'Serbia', 'Seychelles', 'Singapore', 'Slovakia',\n",
       "       'Slovenia', 'Spain', 'Sweden', 'Switzerland', 'Turkey',\n",
       "       'United Arab Emirates', 'United Kingdom', 'United States', 'Wales'],\n",
       "      dtype=object)"
      ]
     },
     "execution_count": 8,
     "metadata": {},
     "output_type": "execute_result"
    }
   ],
   "source": [
    "df.country.unique()"
   ]
  },
  {
   "cell_type": "code",
   "execution_count": 9,
   "metadata": {},
   "outputs": [
    {
     "data": {
      "text/plain": [
       "Northern Ireland        43\n",
       "Scotland                43\n",
       "Wales                   43\n",
       "Canada                  43\n",
       "Israel                  38\n",
       "China                   37\n",
       "United States           37\n",
       "United Kingdom          36\n",
       "England                 36\n",
       "Mexico                  33\n",
       "Chile                   33\n",
       "Lithuania               32\n",
       "Denmark                 30\n",
       "Italy                   30\n",
       "Russia                  30\n",
       "Switzerland             30\n",
       "Czechia                 30\n",
       "Greece                  29\n",
       "Norway                  29\n",
       "Bahrain                 29\n",
       "Latvia                  29\n",
       "Romania                 29\n",
       "Estonia                 29\n",
       "Germany                 29\n",
       "Portugal                29\n",
       "Oman                    28\n",
       "Argentina               28\n",
       "Bulgaria                28\n",
       "Hungary                 28\n",
       "Poland                  28\n",
       "Malta                   28\n",
       "Iceland                 27\n",
       "Croatia                 27\n",
       "Belgium                 26\n",
       "Luxembourg              26\n",
       "Costa Rica              26\n",
       "Finland                 26\n",
       "Ireland                 25\n",
       "Sweden                  22\n",
       "Spain                   22\n",
       "Slovenia                22\n",
       "France                  22\n",
       "United Arab Emirates    21\n",
       "Austria                 20\n",
       "Serbia                  18\n",
       "Slovakia                18\n",
       "Cyprus                  17\n",
       "Netherlands             17\n",
       "Seychelles              15\n",
       "Gibraltar               15\n",
       "Indonesia               14\n",
       "Turkey                  13\n",
       "Singapore               12\n",
       "Saudi Arabia            12\n",
       "India                   11\n",
       "Brazil                  10\n",
       "Panama                   6\n",
       "Isle of Man              5\n",
       "Ecuador                  2\n",
       "Kuwait                   1\n",
       "Name: country, dtype: int64"
      ]
     },
     "execution_count": 9,
     "metadata": {},
     "output_type": "execute_result"
    }
   ],
   "source": [
    "df.country.value_counts()"
   ]
  },
  {
   "cell_type": "code",
   "execution_count": 10,
   "metadata": {},
   "outputs": [
    {
     "data": {
      "text/plain": [
       "1/16/2021     55\n",
       "1/17/2021     55\n",
       "1/15/2021     54\n",
       "1/13/2021     54\n",
       "1/21/2021     53\n",
       "1/18/2021     53\n",
       "1/14/2021     53\n",
       "1/20/2021     53\n",
       "1/12/2021     53\n",
       "1/19/2021     53\n",
       "1/11/2021     52\n",
       "1/10/2021     51\n",
       "1/22/2021     51\n",
       "1/9/2021      50\n",
       "1/8/2021      49\n",
       "1/7/2021      48\n",
       "1/6/2021      48\n",
       "1/23/2021     46\n",
       "1/5/2021      45\n",
       "1/24/2021     45\n",
       "1/4/2021      43\n",
       "1/3/2021      40\n",
       "1/1/2021      39\n",
       "12/31/2020    39\n",
       "1/2/2021      39\n",
       "12/30/2020    37\n",
       "12/29/2020    34\n",
       "12/28/2020    33\n",
       "1/25/2021     27\n",
       "12/27/2020    23\n",
       "12/25/2020    16\n",
       "12/26/2020    16\n",
       "12/24/2020    15\n",
       "12/23/2020    12\n",
       "12/21/2020    10\n",
       "12/20/2020    10\n",
       "12/22/2020    10\n",
       "12/19/2020     7\n",
       "12/18/2020     6\n",
       "12/17/2020     6\n",
       "12/16/2020     6\n",
       "12/15/2020     6\n",
       "12/14/2020     4\n",
       "12/13/2020     3\n",
       "Name: date, dtype: int64"
      ]
     },
     "execution_count": 10,
     "metadata": {},
     "output_type": "execute_result"
    }
   ],
   "source": [
    "df.date.value_counts()"
   ]
  },
  {
   "cell_type": "code",
   "execution_count": 11,
   "metadata": {},
   "outputs": [],
   "source": [
    "df[\"min_vaccinations\"]=df.groupby(\"country\")[\"daily_vaccinations\"].transform(lambda x: x.min())"
   ]
  },
  {
   "cell_type": "code",
   "execution_count": 12,
   "metadata": {},
   "outputs": [
    {
     "data": {
      "text/html": [
       "<div>\n",
       "<style scoped>\n",
       "    .dataframe tbody tr th:only-of-type {\n",
       "        vertical-align: middle;\n",
       "    }\n",
       "\n",
       "    .dataframe tbody tr th {\n",
       "        vertical-align: top;\n",
       "    }\n",
       "\n",
       "    .dataframe thead th {\n",
       "        text-align: right;\n",
       "    }\n",
       "</style>\n",
       "<table border=\"1\" class=\"dataframe\">\n",
       "  <thead>\n",
       "    <tr style=\"text-align: right;\">\n",
       "      <th></th>\n",
       "      <th>country</th>\n",
       "      <th>date</th>\n",
       "      <th>daily_vaccinations</th>\n",
       "      <th>vaccines</th>\n",
       "      <th>min_vaccinations</th>\n",
       "    </tr>\n",
       "  </thead>\n",
       "  <tbody>\n",
       "    <tr>\n",
       "      <th>0</th>\n",
       "      <td>Argentina</td>\n",
       "      <td>12/29/2020</td>\n",
       "      <td>NaN</td>\n",
       "      <td>Sputnik V</td>\n",
       "      <td>6483.0</td>\n",
       "    </tr>\n",
       "    <tr>\n",
       "      <th>1</th>\n",
       "      <td>Argentina</td>\n",
       "      <td>12/30/2020</td>\n",
       "      <td>15656.0</td>\n",
       "      <td>Sputnik V</td>\n",
       "      <td>6483.0</td>\n",
       "    </tr>\n",
       "    <tr>\n",
       "      <th>2</th>\n",
       "      <td>Argentina</td>\n",
       "      <td>12/31/2020</td>\n",
       "      <td>15656.0</td>\n",
       "      <td>Sputnik V</td>\n",
       "      <td>6483.0</td>\n",
       "    </tr>\n",
       "    <tr>\n",
       "      <th>3</th>\n",
       "      <td>Argentina</td>\n",
       "      <td>1/1/2021</td>\n",
       "      <td>11070.0</td>\n",
       "      <td>Sputnik V</td>\n",
       "      <td>6483.0</td>\n",
       "    </tr>\n",
       "    <tr>\n",
       "      <th>4</th>\n",
       "      <td>Argentina</td>\n",
       "      <td>1/2/2021</td>\n",
       "      <td>8776.0</td>\n",
       "      <td>Sputnik V</td>\n",
       "      <td>6483.0</td>\n",
       "    </tr>\n",
       "  </tbody>\n",
       "</table>\n",
       "</div>"
      ],
      "text/plain": [
       "     country        date  daily_vaccinations   vaccines  min_vaccinations\n",
       "0  Argentina  12/29/2020                 NaN  Sputnik V            6483.0\n",
       "1  Argentina  12/30/2020             15656.0  Sputnik V            6483.0\n",
       "2  Argentina  12/31/2020             15656.0  Sputnik V            6483.0\n",
       "3  Argentina    1/1/2021             11070.0  Sputnik V            6483.0\n",
       "4  Argentina    1/2/2021              8776.0  Sputnik V            6483.0"
      ]
     },
     "execution_count": 12,
     "metadata": {},
     "output_type": "execute_result"
    }
   ],
   "source": [
    "df.head()"
   ]
  },
  {
   "cell_type": "code",
   "execution_count": 13,
   "metadata": {},
   "outputs": [],
   "source": [
    "df.daily_vaccinations.fillna(df.min_vaccinations, inplace=True)"
   ]
  },
  {
   "cell_type": "code",
   "execution_count": 14,
   "metadata": {},
   "outputs": [
    {
     "data": {
      "text/plain": [
       "country               0\n",
       "date                  0\n",
       "daily_vaccinations    1\n",
       "vaccines              0\n",
       "min_vaccinations      1\n",
       "dtype: int64"
      ]
     },
     "execution_count": 14,
     "metadata": {},
     "output_type": "execute_result"
    }
   ],
   "source": [
    "df.isnull().sum()"
   ]
  },
  {
   "cell_type": "code",
   "execution_count": 17,
   "metadata": {},
   "outputs": [],
   "source": [
    "df.fillna(0, inplace=True)"
   ]
  },
  {
   "cell_type": "code",
   "execution_count": 18,
   "metadata": {},
   "outputs": [
    {
     "data": {
      "text/plain": [
       "country               0\n",
       "date                  0\n",
       "daily_vaccinations    0\n",
       "vaccines              0\n",
       "min_vaccinations      0\n",
       "dtype: int64"
      ]
     },
     "execution_count": 18,
     "metadata": {},
     "output_type": "execute_result"
    }
   ],
   "source": [
    "df.isnull().sum()"
   ]
  },
  {
   "cell_type": "code",
   "execution_count": 19,
   "metadata": {},
   "outputs": [],
   "source": [
    "df.drop(columns=\"min_vaccinations\", inplace=True)"
   ]
  },
  {
   "cell_type": "code",
   "execution_count": 20,
   "metadata": {},
   "outputs": [
    {
     "data": {
      "text/html": [
       "<div>\n",
       "<style scoped>\n",
       "    .dataframe tbody tr th:only-of-type {\n",
       "        vertical-align: middle;\n",
       "    }\n",
       "\n",
       "    .dataframe tbody tr th {\n",
       "        vertical-align: top;\n",
       "    }\n",
       "\n",
       "    .dataframe thead th {\n",
       "        text-align: right;\n",
       "    }\n",
       "</style>\n",
       "<table border=\"1\" class=\"dataframe\">\n",
       "  <thead>\n",
       "    <tr style=\"text-align: right;\">\n",
       "      <th></th>\n",
       "      <th>country</th>\n",
       "      <th>date</th>\n",
       "      <th>daily_vaccinations</th>\n",
       "      <th>vaccines</th>\n",
       "    </tr>\n",
       "  </thead>\n",
       "  <tbody>\n",
       "    <tr>\n",
       "      <th>0</th>\n",
       "      <td>Argentina</td>\n",
       "      <td>12/29/2020</td>\n",
       "      <td>6483.0</td>\n",
       "      <td>Sputnik V</td>\n",
       "    </tr>\n",
       "    <tr>\n",
       "      <th>1</th>\n",
       "      <td>Argentina</td>\n",
       "      <td>12/30/2020</td>\n",
       "      <td>15656.0</td>\n",
       "      <td>Sputnik V</td>\n",
       "    </tr>\n",
       "    <tr>\n",
       "      <th>2</th>\n",
       "      <td>Argentina</td>\n",
       "      <td>12/31/2020</td>\n",
       "      <td>15656.0</td>\n",
       "      <td>Sputnik V</td>\n",
       "    </tr>\n",
       "    <tr>\n",
       "      <th>3</th>\n",
       "      <td>Argentina</td>\n",
       "      <td>1/1/2021</td>\n",
       "      <td>11070.0</td>\n",
       "      <td>Sputnik V</td>\n",
       "    </tr>\n",
       "    <tr>\n",
       "      <th>4</th>\n",
       "      <td>Argentina</td>\n",
       "      <td>1/2/2021</td>\n",
       "      <td>8776.0</td>\n",
       "      <td>Sputnik V</td>\n",
       "    </tr>\n",
       "  </tbody>\n",
       "</table>\n",
       "</div>"
      ],
      "text/plain": [
       "     country        date  daily_vaccinations   vaccines\n",
       "0  Argentina  12/29/2020              6483.0  Sputnik V\n",
       "1  Argentina  12/30/2020             15656.0  Sputnik V\n",
       "2  Argentina  12/31/2020             15656.0  Sputnik V\n",
       "3  Argentina    1/1/2021             11070.0  Sputnik V\n",
       "4  Argentina    1/2/2021              8776.0  Sputnik V"
      ]
     },
     "execution_count": 20,
     "metadata": {},
     "output_type": "execute_result"
    }
   ],
   "source": [
    "df.head()"
   ]
  },
  {
   "cell_type": "markdown",
   "metadata": {},
   "source": [
    "QUESTION-5"
   ]
  },
  {
   "cell_type": "markdown",
   "metadata": {},
   "source": [
    "Code Implementation Task: Implement code to list the top-3 countries with highest median daily vaccination numbers by considering missing values imputed version of dataset.\n",
    "Please  provide the link to your code as answer to this question."
   ]
  },
  {
   "cell_type": "code",
   "execution_count": 21,
   "metadata": {
    "scrolled": true
   },
   "outputs": [
    {
     "data": {
      "text/plain": [
       "country\n",
       "United States    378253.0\n",
       "China            276786.0\n",
       "India            173922.0\n",
       "Name: daily_vaccinations, dtype: float64"
      ]
     },
     "execution_count": 21,
     "metadata": {},
     "output_type": "execute_result"
    }
   ],
   "source": [
    "df.groupby(\"country\")[\"daily_vaccinations\"].median().sort_values(ascending=False).head(3)"
   ]
  },
  {
   "cell_type": "markdown",
   "metadata": {},
   "source": [
    "QUESTION-6"
   ]
  },
  {
   "cell_type": "markdown",
   "metadata": {},
   "source": [
    "What is the number of total vaccinations done on 1/6/2021 (MM/DD/YYYY) by considering missing values imputed version of dataset? Please  just provide the number as answer."
   ]
  },
  {
   "cell_type": "code",
   "execution_count": 22,
   "metadata": {
    "scrolled": true
   },
   "outputs": [
    {
     "data": {
      "text/plain": [
       "1485255.0"
      ]
     },
     "execution_count": 22,
     "metadata": {},
     "output_type": "execute_result"
    }
   ],
   "source": [
    "df[df[\"date\"]==\"1/6/2021\"].daily_vaccinations.sum()"
   ]
  },
  {
   "cell_type": "markdown",
   "metadata": {},
   "source": [
    "QUESTION-8"
   ]
  },
  {
   "cell_type": "markdown",
   "metadata": {},
   "source": [
    "Assume any database includes below columns and you are requested to process Stats_Access_Link column and extract pure url information inside per device type. \n",
    "\n",
    "    Rules: \n",
    "-   Xml tags and protocol parts is guaranteed to be lower case  \n",
    "-   Access link part that we are interested in can have alpha-numeric, case insensitive characters, underscore ( _ ) character and dot ( . ) character only.  \n",
    "\n",
    "What would you use for this task, please write your detailed answer with exact solution? Please  provide the link to your code as answer to this question"
   ]
  },
  {
   "cell_type": "code",
   "execution_count": 18,
   "metadata": {},
   "outputs": [
    {
     "name": "stdout",
     "output_type": "stream",
     "text": [
      "xcd32112.smart_meter.com\n",
      "tXh67.dia_meter.com\n",
      "yT5495.smart_meter.com\n",
      "ret323_TRu.crown.com\n",
      "luwr3243.celcius.com\n"
     ]
    }
   ],
   "source": [
    "import pandas as pd\n",
    "import re\n",
    "s = \"<url>http://xcd32112.smart_meter.com</url>\"\n",
    "s.lstrip(\"http://\").rstrip(\"</url>\")\n",
    "\n",
    "df = pd.DataFrame({\"Devide_Type\":[\"AXO145\",\"TRU151\",\"ZOD231\",\"YRT326\",\"LWR245\"],\n",
    "                   \"Stats_Access_Link\": [\"<url>http://xcd32112.smart_meter.com</url>\",\"<url>http://tXh67.dia_meter.com</url>\",\n",
    "                                         \"<url>http://yT5495.smart_meter.com</url>\",\"<url>http://ret323_TRu.crown.com</url>\",\n",
    "                                         \"<url>http://luwr3243.celcius.com</url>\"]})\n",
    "for i in df.Stats_Access_Link:\n",
    "    print(i.lstrip(\"<url>http:\").rstrip(\"</url>\").replace(\"//\",\"\"))"
   ]
  }
 ],
 "metadata": {
  "kernelspec": {
   "display_name": "Python 3",
   "language": "python",
   "name": "python3"
  },
  "language_info": {
   "codemirror_mode": {
    "name": "ipython",
    "version": 3
   },
   "file_extension": ".py",
   "mimetype": "text/x-python",
   "name": "python",
   "nbconvert_exporter": "python",
   "pygments_lexer": "ipython3",
   "version": "3.8.3"
  },
  "varInspector": {
   "cols": {
    "lenName": 16,
    "lenType": 16,
    "lenVar": 40
   },
   "kernels_config": {
    "python": {
     "delete_cmd_postfix": "",
     "delete_cmd_prefix": "del ",
     "library": "var_list.py",
     "varRefreshCmd": "print(var_dic_list())"
    },
    "r": {
     "delete_cmd_postfix": ") ",
     "delete_cmd_prefix": "rm(",
     "library": "var_list.r",
     "varRefreshCmd": "cat(var_dic_list()) "
    }
   },
   "types_to_exclude": [
    "module",
    "function",
    "builtin_function_or_method",
    "instance",
    "_Feature"
   ],
   "window_display": false
  }
 },
 "nbformat": 4,
 "nbformat_minor": 4
}
